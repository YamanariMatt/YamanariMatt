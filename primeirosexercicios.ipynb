{
  "nbformat": 4,
  "nbformat_minor": 0,
  "metadata": {
    "colab": {
      "provenance": [],
      "authorship_tag": "ABX9TyNeSQ5d6gswFkESSaxQZNAh",
      "include_colab_link": true
    },
    "kernelspec": {
      "name": "python3",
      "display_name": "Python 3"
    },
    "language_info": {
      "name": "python"
    }
  },
  "cells": [
    {
      "cell_type": "markdown",
      "metadata": {
        "id": "view-in-github",
        "colab_type": "text"
      },
      "source": [
        "<a href=\"https://colab.research.google.com/github/YamanariMatt/YamanariMatt/blob/main/primeirosexercicios.ipynb\" target=\"_parent\"><img src=\"https://colab.research.google.com/assets/colab-badge.svg\" alt=\"Open In Colab\"/></a>"
      ]
    },
    {
      "cell_type": "markdown",
      "source": [
        " 1)Faça um algoritmo que receba três notas e seus respectivos pesos, calcule e mostre a média\n",
        "ponderada dessas notas."
      ],
      "metadata": {
        "id": "OOk9m-WRMnJ-"
      }
    },
    {
      "cell_type": "code",
      "execution_count": null,
      "metadata": {
        "colab": {
          "base_uri": "https://localhost:8080/"
        },
        "id": "dzMA0-ISMGzV",
        "outputId": "86bbe7a5-b824-46e4-8d50-196ae8e740bf"
      },
      "outputs": [
        {
          "output_type": "stream",
          "name": "stdout",
          "text": [
            "Digite a Primeira Nota:6\n",
            "Digite o Peso da Primeira Nota:2\n",
            "Digite a Segunda Nota:8\n",
            "Digite o Peso da Segunda Nota:3\n",
            "Digite a Terceira Nota:7\n",
            "Digite o Peso da Terceira Nota:1\n",
            "A média é igual á: 7.0\n"
          ]
        }
      ],
      "source": [
        "n1 = float (input(\"Digite a Primeira Nota:\"))\n",
        "peso1 = int(input(\"Digite o Peso da Primeira Nota:\"))\n",
        "n2 = float (input(\"Digite a Segunda Nota:\"))\n",
        "peso2 = int(input(\"Digite o Peso da Segunda Nota:\"))\n",
        "n3 = float (input(\"Digite a Terceira Nota:\"))\n",
        "peso3 = int(input(\"Digite o Peso da Terceira Nota:\"))\n",
        "\n",
        "media = (n1 * peso1 + n2 * peso2 + n3 * peso3) // (peso1 +peso2 + peso3)\n",
        "\n",
        "print (\"A média é igual á:\",media)"
      ]
    },
    {
      "cell_type": "markdown",
      "source": [
        "2) Faça um algoritmo que receba o ano de nascimento de uma pessoa e o ano atual, calcule e\n",
        "mostre:\n",
        "\n",
        "a) a idade dessa pessoa o final do ano atual;\n",
        "\n",
        "b) quantos anos essa pessoa terá ao final de 2050.\n"
      ],
      "metadata": {
        "id": "T4xJP9I-YSB2"
      }
    },
    {
      "cell_type": "code",
      "source": [
        "nasc = int(input(\"Digite o seu ano de Nascimento:\"))\n",
        "atual = int(input(\"Digite o ano Atual:\"))\n",
        "final_ano = atual - nasc\n",
        "futuro =  2050 - nasc\n",
        "print (\"No final do ano você terá: \" , final_ano, \" anos.\")\n",
        "print (\"No final de 2050 você terá : \", futuro, \"anos.\")"
      ],
      "metadata": {
        "colab": {
          "base_uri": "https://localhost:8080/"
        },
        "id": "oNBtc7CRYXk2",
        "outputId": "80d0e74a-8563-43bc-bbe2-f13b72208979"
      },
      "execution_count": null,
      "outputs": [
        {
          "output_type": "stream",
          "name": "stdout",
          "text": [
            "Digite o seu ano de Nascimento:2002\n",
            "Digite o ano Atual:2024\n",
            "No final do ano você terá:  22  anos.\n",
            "No final de 2050 você terá :  48 anos.\n"
          ]
        }
      ]
    },
    {
      "cell_type": "markdown",
      "source": [
        "3) Faça um algoritmo que receba o número de horas trabalhadas por um funcionário e o valor\n",
        "do salário-mínimo. Calcule e mostre o salário a receber seguindo as regras abaixo:\n",
        "\n",
        "a) a hora trabalhada vale um quinto do salário-mínimo;\n",
        "\n",
        "b) o salário bruto equivale ao número de horas trabalhadas multiplicado pelo valor da hora\n",
        "trabalhada;\n",
        "\n",
        "c) o imposto equivale a 3% do salário bruto;\n",
        "\n",
        "d) o salário a receber equivale ao salário bruto menos o imposto.\n"
      ],
      "metadata": {
        "id": "61WBglr3ax15"
      }
    },
    {
      "cell_type": "code",
      "source": [
        "horas_trabalho = float(input(\"Digite o Número de horas trabalhadas:\"))\n",
        "salario_minimo = float(input(\"Digite o valor do Salário Mínimo:\"))\n",
        "valor_hora = salario_minimo / 5\n",
        "salario_bruto = horas_trabalho * valor_hora\n",
        "salario_final = salario_bruto * 0.97\n",
        "\n",
        "print (\"Você receberá o valor de:\", salario_final)\n",
        "\n"
      ],
      "metadata": {
        "colab": {
          "base_uri": "https://localhost:8080/"
        },
        "id": "an-Zo-u7a5jA",
        "outputId": "b1daa679-a0c7-4e23-d812-43ec664abff2"
      },
      "execution_count": null,
      "outputs": [
        {
          "output_type": "stream",
          "name": "stdout",
          "text": [
            "Digite o Número de horas trabalhadas:12\n",
            "Digite o valor do Salário Mínimo:1500\n",
            "Você receberá o valor de: 3492.0\n"
          ]
        }
      ]
    },
    {
      "cell_type": "markdown",
      "source": [
        "4) Faça um algoritmo que receba o custo de um espetáculo teatral e o preço do convite desse\n",
        "espetáculo. Esse programa deve calcular e mostrar a quantidade de convites que devem ser\n",
        "vendidos para que, pelo menos, o custo do espetáculo seja alcançado.\n"
      ],
      "metadata": {
        "id": "Mi08it6Oe4-m"
      }
    },
    {
      "cell_type": "code",
      "source": [
        "  custo = float(input(\"Qual o custo do Espetáculo Teatral?\"))\n",
        "  preco = float(input(\"Qual o preço do convite?\"))\n",
        "  convite = custo / preco\n",
        "  print (\"O total de Ingressos a serem vendidos para alcançar o custo total do Espetáculo é de \", convite, \"Ingressos.\")\n"
      ],
      "metadata": {
        "id": "p2MBFK-Se8--",
        "colab": {
          "base_uri": "https://localhost:8080/"
        },
        "outputId": "d7f99307-b6a1-4d0d-b80a-e6df1df43fbc"
      },
      "execution_count": 2,
      "outputs": [
        {
          "output_type": "stream",
          "name": "stdout",
          "text": [
            "Qual o custo do Espetáculo Teatral?10000\n",
            "Qual o preço do convite?50\n",
            "O total de Ingressos a serem vendidos para alcançar o custo total do Espetáculo é de  200.0 Ingressos.\n"
          ]
        }
      ]
    },
    {
      "cell_type": "markdown",
      "source": [
        "5) Faça um algoritmo que receba um horário (uma variável para hora e outra para minutos),\n",
        "\n",
        "calcule e mostre:\n",
        "\n",
        "a) o horário digitado convertido em minutos;\n",
        "\n",
        "b) o total dos minutos convertidos em segundos"
      ],
      "metadata": {
        "id": "y5KKvObOBfh7"
      }
    },
    {
      "cell_type": "code",
      "source": [
        "hora = int (input(\"Digite a Hora:\"))\n",
        "minutos = int (input(\"Digite os Minutos:\"))\n",
        "horaminut = hora / 60\n",
        "minutseg = minutos / 60\n",
        "print (hora,\" Horas, equivalem á \", horaminut, \"Minutos.\")\n",
        "print (minutos, \" Minutos, equivalem á \", minutseg, \"Segundos.\")"
      ],
      "metadata": {
        "id": "UXN-fAqFBkIi",
        "colab": {
          "base_uri": "https://localhost:8080/"
        },
        "outputId": "8bd750f0-096a-496c-90a5-e742d3ab0f5d"
      },
      "execution_count": 5,
      "outputs": [
        {
          "output_type": "stream",
          "name": "stdout",
          "text": [
            "Digite a Hora:16\n",
            "Digite os Minutos:3\n",
            "16  Horas, equivalem á  0.26666666666666666 Minutos.\n",
            "3  Minutos, equivalem á  0.05 Segundos.\n"
          ]
        }
      ]
    },
    {
      "cell_type": "markdown",
      "source": [
        "6) Faça um algoritmo que calcule e mostre a tabuada (de multiplicação de 0 a 10) de um\n",
        "número digitado pelo usuário"
      ],
      "metadata": {
        "id": "H0TmpzI4BkiF"
      }
    },
    {
      "cell_type": "code",
      "source": [
        "numero = int (input(\"Digite um Número:\"))\n",
        "tabuada0 = numero * 0\n",
        "tabuada1 = numero * 1\n",
        "tabuada2 = numero * 2\n",
        "tabuada3 = numero * 3\n",
        "tabuada4 = numero * 4\n",
        "tabuada5 = numero * 5\n",
        "tabuada6 = numero * 6\n",
        "tabuada7 = numero * 7\n",
        "tabuada8 = numero * 8\n",
        "tabuada9 = numero * 9\n",
        "tabuada10 = numero * 10\n",
        "print (numero,\"x 0 = \", tabuada0)\n",
        "print (numero,\"x 1 = \", tabuada1)\n",
        "print (numero,\"x 2 = \", tabuada2)\n",
        "print (numero,\"x 3 = \", tabuada3)\n",
        "print (numero,\"x 4 = \", tabuada4)\n",
        "print (numero,\"x 5 = \", tabuada5)\n",
        "print (numero,\"x 6 = \", tabuada6)\n",
        "print (numero,\"x 7 = \", tabuada7)\n",
        "print (numero,\"x 8 = \", tabuada8)\n",
        "print (numero,\"x 9 = \", tabuada9)\n",
        "print (numero,\"x 10 = \", tabuada10)\n"
      ],
      "metadata": {
        "id": "1Dr8V91qBqTe",
        "colab": {
          "base_uri": "https://localhost:8080/"
        },
        "outputId": "8d9dd1b1-7751-4112-b1e0-214ffe30a8c7"
      },
      "execution_count": 8,
      "outputs": [
        {
          "output_type": "stream",
          "name": "stdout",
          "text": [
            "Digite um Número:13\n",
            "13 x 0 =  0\n",
            "13 x 1 =  13\n",
            "13 x 2 =  26\n",
            "13 x 3 =  39\n",
            "13 x 4 =  52\n",
            "13 x 5 =  65\n",
            "13 x 6 =  78\n",
            "13 x 7 =  91\n",
            "13 x 8 =  104\n",
            "13 x 9 =  117\n",
            "13 x 10 =  130\n"
          ]
        }
      ]
    },
    {
      "cell_type": "markdown",
      "source": [
        "### EXEMPLO EXTRUTURA CONDICIONAL"
      ],
      "metadata": {
        "id": "0C4IQv3efwNw"
      }
    },
    {
      "cell_type": "code",
      "source": [
        "n1 = float (input(\"Digite a Primeira Nota:\"))\n",
        "peso1 = int(input(\"Digite o Peso da Primeira Nota:\"))\n",
        "n2 = float (input(\"Digite a Segunda Nota:\"))\n",
        "peso2 = int(input(\"Digite o Peso da Segunda Nota:\"))\n",
        "n3 = float (input(\"Digite a Terceira Nota:\"))\n",
        "peso3 = int(input(\"Digite o Peso da Terceira Nota:\"))\n",
        "\n",
        "media = (n1 * peso1 + n2 * peso2 + n3 * peso3) // (peso1 +peso2 + peso3)\n",
        "\n",
        "print (\"A média é igual á:\",media)\n",
        "if media >= 7:\n",
        "  print (\"Aprovado\")\n",
        "elif media < 2:\n",
        "    print (\"Reprovado\")\n",
        "else:\n",
        "   print(\"Ainda não aprovado\")\n",
        "print (\"FIM\")"
      ],
      "metadata": {
        "colab": {
          "base_uri": "https://localhost:8080/"
        },
        "id": "9DbdqzYZgmAj",
        "outputId": "8066265d-c8a3-43d2-85ca-c1130cf900a6"
      },
      "execution_count": null,
      "outputs": [
        {
          "output_type": "stream",
          "name": "stdout",
          "text": [
            "Digite a Primeira Nota:6\n",
            "Digite o Peso da Primeira Nota:2\n",
            "Digite a Segunda Nota:8\n",
            "Digite o Peso da Segunda Nota:3\n",
            "Digite a Terceira Nota:7\n",
            "Digite o Peso da Terceira Nota:2\n",
            "A média é igual á: 7.0\n",
            "Aprovado\n",
            "FIM\n"
          ]
        }
      ]
    }
  ]
}